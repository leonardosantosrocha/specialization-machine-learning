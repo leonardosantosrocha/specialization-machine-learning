{
 "cells": [
  {
   "cell_type": "markdown",
   "metadata": {},
   "source": [
    "#### Regressão Polinomial\n",
    "\n",
    "- O que é ?\n",
    "\n",
    "    - ...\n",
    "\n",
    "- Qual a formulação matemática ?\n",
    "\n",
    "    - $\\text{...}$, onde:\n",
    "\n",
    "        - ...\n",
    "\n",
    "<br/>\n",
    "\n",
    "<img src=\"#\">"
   ]
  }
 ],
 "metadata": {
  "language_info": {
   "name": "python"
  }
 },
 "nbformat": 4,
 "nbformat_minor": 2
}
