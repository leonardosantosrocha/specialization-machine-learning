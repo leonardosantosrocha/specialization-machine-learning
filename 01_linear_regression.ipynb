{
 "cells": [
  {
   "cell_type": "markdown",
   "id": "f7b72603",
   "metadata": {},
   "source": [
    "#### Regressão Linear Simples (ou Univariada)\n",
    "\n",
    "- O que é ?\n",
    "\n",
    "    - É um método estatistíco utilizado para prever valores reais de um determinado evento, por exemplo: predizer o valor de imóveis.\n",
    "\n",
    "- Qual a formulação matemática ?\n",
    "\n",
    "    - $\\text{y = ax + b}$, onde:\n",
    "\n",
    "        - \"y\" é a variável dependente (o que queremos prever).\n",
    "\n",
    "        - \"a\" é o coeficiente angular (responsável por definir a inclinação da reta). É ele quem define o quanto \"y\" irá aumentar/diminuir para cada unidade de \"x\" (também é conhecido por o peso da variável \"x\").\n",
    "\n",
    "        - \"x\" é a variável independente (o que iremos utilizar para prever \"y\").\n",
    "\n",
    "        - \"b\" é a constante (que pode ser chamado de intercepto), que representa a o valor de \"y\" quando \"x\" = 0, definindo aonde a linha cruza o eixo \"y\".\n",
    "\n",
    "<br/>\n",
    "\n",
    "<img src=\"_img/01.png\">"
   ]
  },
  {
   "cell_type": "markdown",
   "id": "880835a4",
   "metadata": {
    "vscode": {
     "languageId": "plaintext"
    }
   },
   "source": [
    "#### Função de Erro (ou Loss)\n",
    "\n",
    "- O que é ? \n",
    "\n",
    "    - É uma função utilizada para apresentar o erro, ou seja, a diferença entre o valor predito e o valor real.\n",
    "\n",
    "    - Existem diversas funções de erro, porém, a mais comum para regressão linear é o erro quadrático médio.\n",
    "\n",
    "- Qual a formulação matemática do erro quadrático médio ?\n",
    "\n",
    "    - $\\text{MSE} = \\frac{1}{n} \\sum_{i=1}^{n} (y_i - \\hat{y}_i)^2$, onde:\n",
    "\n",
    "        - \"n\" representa o número de amostras (ou registros) do conjunto de dados.\n",
    "\n",
    "        - \"i\" representa a i-ésima amostra do conjunto de dados.\n",
    "\n",
    "        - \"y\" representa o valor real.\n",
    "\n",
    "        - \"ŷ\" representa o valor predito.\n",
    "\n",
    "<br/>\n",
    "\n",
    "<img src=\"_img/02.png\">"
   ]
  }
 ],
 "metadata": {
  "language_info": {
   "name": "python"
  }
 },
 "nbformat": 4,
 "nbformat_minor": 2
}
