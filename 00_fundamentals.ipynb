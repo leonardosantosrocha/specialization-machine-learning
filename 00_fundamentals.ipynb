{
 "cells": [
  {
   "cell_type": "markdown",
   "metadata": {},
   "source": [
    "#### Aprendizado Supervisionado e Aprendizado Não Supervisionado\n",
    "\n",
    "- Supervisionado\n",
    "\n",
    "    - O conjunto de dados fornecido possui ambas as features X (variáveis independentes) e Y (variável dependente).\n",
    "\n",
    "    - O modelo aprende com os exemplos fornecidos e realiza a predição dos casos desconhecidos.\n",
    "\n",
    "    - Exemplos: modelos de regressão (prever preço de imóveis) e modelos de classificação (e-mail é ou não um spam).\n",
    "\n",
    "- Não Supervisionado\n",
    "\n",
    "    - O conjunto de dados fornecido possui apenas as features X (variáveis dependentes).\n",
    "\n",
    "    - O modelo processa os dados, detecção padrões e com isso classifica os eventos em clusters (ou grupos).\n",
    "\n",
    "    - Exemplos: modelos de clustering (agrupamento de clientes), modelos de associação (recomendação de músicas) e redução de dimensionalidade (combinação de dados).\n",
    "\n",
    "<br/>\n",
    "\n",
    "<img src=\"_img/00.png\">"
   ]
  }
 ],
 "metadata": {
  "language_info": {
   "name": "python"
  }
 },
 "nbformat": 4,
 "nbformat_minor": 2
}
