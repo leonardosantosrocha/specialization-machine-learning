{
 "cells": [
  {
   "cell_type": "markdown",
   "metadata": {},
   "source": [
    "#### Regressão Linear Múltipla\n",
    "\n",
    "- O que é ?\n",
    "\n",
    "    - É um método estatistíco utilizado para prever valores reais de um determinado evento, por exemplo: predizer o valor de imóveis. Diferente da Regressão Linear Simples, a Regressão Linear Múltipla considera o valor de \"n\" variáveis preditoras \"x\" para predizer a variável predita \"y\".\n",
    "\n",
    "- Qual a formulação matemática ?\n",
    "\n",
    "    - $\\text{y = a1.x1 + a2.b2 + a3.b3 + ... + aN.bN + b}$, onde:\n",
    "\n",
    "        - \"y\" é a variável dependente (o que queremos prever).\n",
    "\n",
    "        - \"a\" é o coeficiente angular (responsável por definir a inclinação da reta). É ele quem define o quanto \"y\" irá aumentar/diminuir para cada unidade de \"x\" (também é conhecido por o peso da variável \"x\").\n",
    "\n",
    "        - \"x\" é a variável independente (o que iremos utilizar para prever \"y\").\n",
    "\n",
    "        - \"b\" é a constante (que pode ser chamado de intercepto), que representa a o valor de \"y\" quando \"x\" = 0, definindo aonde a linha cruza o eixo \"y\".\n",
    "    \n",
    "    - ou simplificando, $\\text{y = āx̄ + b}$, onde:\n",
    "\n",
    "        - \"ā\" é um vetor de valores contendo todos os coeficientes angulares.\n",
    "\n",
    "        - \"x̄\" é um vetor de valores contendo todas as variáveis independentes.\n",
    "\n",
    "<br/>\n",
    "\n",
    "<img src=\"_img/04.png\">"
   ]
  }
 ],
 "metadata": {
  "language_info": {
   "name": "python"
  }
 },
 "nbformat": 4,
 "nbformat_minor": 2
}
