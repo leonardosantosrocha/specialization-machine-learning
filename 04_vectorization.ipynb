{
 "cells": [
  {
   "cell_type": "markdown",
   "metadata": {},
   "source": [
    "#### Vetorização\n",
    "\n",
    "- O que é ?\n",
    "\n",
    "    - É uma técnica utilizada para converter textos em vetores númericos, o que otimiza o processamento dos algoritmos, uma vez que as máquinas ganham muita performance ao processar números.\n",
    "    \n",
    "    - Além disso, a vetorização ganha ainda mais performance em ambientes distribuídos, onde partes independentes de um algoritmo podem ser paralelizadas para aumentar a velocidade de execução do código.\n",
    "\n",
    "- Como comprovar a eficiência do método ?\n",
    "\n",
    "    - Com um teste simples, ou seja, elevar números de 1 a 100 milhões ao quadrado, nota-se uma grande diferença entre algoritmos implementados com e sem vetorização. \n",
    "    \n",
    "    - No exemplo a seguir, é apresentado um código sem vetorização que demora cerca de ~25s, entretanto, ao aplicar a técnica, o mesmo resultado é atingido em apenas ~135ms - um ganho de performance de mais de 99,9%."
   ]
  },
  {
   "cell_type": "code",
   "execution_count": 1,
   "metadata": {},
   "outputs": [],
   "source": [
    "import numpy as np"
   ]
  },
  {
   "cell_type": "code",
   "execution_count": 2,
   "metadata": {},
   "outputs": [],
   "source": [
    "numbers = np.arange(0, 100_000_001)"
   ]
  },
  {
   "cell_type": "code",
   "execution_count": 3,
   "metadata": {},
   "outputs": [
    {
     "name": "stdout",
     "output_type": "stream",
     "text": [
      "CPU times: user 24.6 s, sys: 0 ns, total: 24.6 s\n",
      "Wall time: 24.6 s\n"
     ]
    }
   ],
   "source": [
    "%%time\n",
    "for i in range(len(numbers)):\n",
    "    numbers[i] = numbers[i] ** 2"
   ]
  },
  {
   "cell_type": "code",
   "execution_count": 4,
   "metadata": {},
   "outputs": [
    {
     "data": {
      "text/plain": [
       "array([  0,   1,   4,   9,  16,  25,  36,  49,  64,  81, 100])"
      ]
     },
     "execution_count": 4,
     "metadata": {},
     "output_type": "execute_result"
    }
   ],
   "source": [
    "numbers[0:11]"
   ]
  },
  {
   "cell_type": "code",
   "execution_count": 5,
   "metadata": {},
   "outputs": [],
   "source": [
    "numbers = np.arange(0, 100_000_001)"
   ]
  },
  {
   "cell_type": "code",
   "execution_count": 6,
   "metadata": {},
   "outputs": [
    {
     "name": "stdout",
     "output_type": "stream",
     "text": [
      "CPU times: user 63.3 ms, sys: 72.1 ms, total: 135 ms\n",
      "Wall time: 133 ms\n"
     ]
    }
   ],
   "source": [
    "%%time\n",
    "numbers = numbers ** 2"
   ]
  },
  {
   "cell_type": "code",
   "execution_count": 7,
   "metadata": {},
   "outputs": [
    {
     "data": {
      "text/plain": [
       "array([  0,   1,   4,   9,  16,  25,  36,  49,  64,  81, 100])"
      ]
     },
     "execution_count": 7,
     "metadata": {},
     "output_type": "execute_result"
    }
   ],
   "source": [
    "numbers[0:11]"
   ]
  }
 ],
 "metadata": {
  "kernelspec": {
   "display_name": "Python 3",
   "language": "python",
   "name": "python3"
  },
  "language_info": {
   "codemirror_mode": {
    "name": "ipython",
    "version": 3
   },
   "file_extension": ".py",
   "mimetype": "text/x-python",
   "name": "python",
   "nbconvert_exporter": "python",
   "pygments_lexer": "ipython3",
   "version": "3.10.12"
  }
 },
 "nbformat": 4,
 "nbformat_minor": 2
}
