{
 "cells": [
  {
   "cell_type": "markdown",
   "metadata": {},
   "source": [
    "#### Regressão Logistica\n",
    "\n",
    "- O que é ?\n",
    "\n",
    "    - ...\n",
    "\n",
    "- Qual a formulação matemática ?\n",
    "\n",
    "    - ...\n",
    "\n",
    "<br/>\n",
    "\n",
    "<img src=\"#\">"
   ]
  },
  {
   "cell_type": "markdown",
   "metadata": {},
   "source": [
    "#### Função de Erro (ou Loss)\n",
    "\n",
    "- O que é ? \n",
    "\n",
    "    - ..."
   ]
  }
 ],
 "metadata": {
  "language_info": {
   "name": "python"
  }
 },
 "nbformat": 4,
 "nbformat_minor": 2
}
