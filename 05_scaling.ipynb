{
 "cells": [
  {
   "cell_type": "markdown",
   "metadata": {},
   "source": [
    "#### Scaling\n",
    "\n",
    "- O que é ?\n",
    "\n",
    "    - ...\n",
    "\n",
    "\n",
    "- Quais as variações da técnica ?\n",
    "\n",
    "    - Standard: ...\n",
    "    \n",
    "    - Mean: ...\n",
    "\n",
    "    - Z-Score: ..."
   ]
  }
 ],
 "metadata": {
  "language_info": {
   "name": "python"
  }
 },
 "nbformat": 4,
 "nbformat_minor": 2
}
