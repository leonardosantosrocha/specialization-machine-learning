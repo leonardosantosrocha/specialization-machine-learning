{
 "cells": [
  {
   "cell_type": "markdown",
   "metadata": {},
   "source": [
    "#### Scaling (ou Normalização)\n",
    "\n",
    "- O que é ?\n",
    "\n",
    "    - É uma técnica utilizada para tornar a escala dos dados mais uniforme, ou seja, padronizar a magnitude das variáveis de modo que elas se tornem mais proporcionais e trabalhem em intervalos similares.\n",
    "\n",
    "    - Imagine que o seu conjunto de dados possui as variáveis renda (variando de 1.000 a 10.000) e idade (variando de 18 a 45 anos). Neste caso, realizar a normalização das variáveis para que em ambos os casos os valores sejam apresentados no intervalo [0, 1] pode impactar positivamente o resultado do modelo.\n",
    "\n",
    "\n",
    "- Quais as principais variações da técnica ?\n",
    "    \n",
    "    - Min-max\n",
    "\n",
    "        - Mostra boa eficiência do ser utilizado em conjunto com o KNN (K-Nearest Neighbors) e Redes Neurais que utilizam a função de ativação sigmoid, onde os valores são representados no intervalo 0 e 1.\n",
    "    \n",
    "        - Definida pela fórmula Xnorm​ = (X - Xmin) / (Xmax - Xmin), onde:\n",
    "\n",
    "            - \"Xmin\" é o valor mínimo da variável.\n",
    "\n",
    "            - \"Xmax\" é o valor máximo da variável.\n",
    "\n",
    "    - Standard (ou Z-Score)\n",
    "\n",
    "        - Costuma apresentar uma boa performance quando aplicado a modelos que são sensíveis à escala, como por exemplo, Regressão Linear, Regressão Logística, Máquinas de Vetores de Suporte (SVM) e Redes Neurais.\n",
    "        \n",
    "        - Definida pela fórmula z = σx−μ​, onde:\n",
    "\n",
    "            - \"x\" é o valor da amostra.\n",
    "\n",
    "            - \"μ​\" é a média dos dados.\n",
    "\n",
    "            - \"σ\" é o desvio padrão.\n",
    "\n",
    "    - Robust Scaling\n",
    "\n",
    "        - É muito similar ao Standard Scaling, entretanto, apresenta melhor performance para tratar conjuntos de dados que possuem outliers, uma vez que  \n",
    "\n",
    "        - Definida pela fórmula Xrobust ​= (x - mediana) / (IQR), onde:\n",
    "\n",
    "            - \"x\" é o valor da amostra.\n",
    "\n",
    "            - \"mediana\" é o valor central da variável.\n",
    "\n",
    "            - \"IQR\" é a diferença entre o 3° e o 1° quartil dos dados."
   ]
  }
 ],
 "metadata": {
  "language_info": {
   "name": "python"
  }
 },
 "nbformat": 4,
 "nbformat_minor": 2
}
